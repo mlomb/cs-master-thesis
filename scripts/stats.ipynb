{
 "cells": [
  {
   "cell_type": "code",
   "execution_count": 14,
   "metadata": {},
   "outputs": [],
   "source": [
    "from glob import glob\n",
    "import chess\n",
    "import numpy as np\n",
    "from tqdm import tqdm"
   ]
  },
  {
   "cell_type": "code",
   "execution_count": 15,
   "metadata": {},
   "outputs": [
    {
     "data": {
      "text/plain": [
       "['/mnt/c/datasets/eval-1700/lichess_db_standard_rated_2023-01.csv',\n",
       " '/mnt/c/datasets/eval-1700/lichess_db_standard_rated_2023-02.csv',\n",
       " '/mnt/c/datasets/eval-1700/lichess_db_standard_rated_2023-03.csv',\n",
       " '/mnt/c/datasets/eval-1700/lichess_db_standard_rated_2023-04.csv',\n",
       " '/mnt/c/datasets/eval-1700/lichess_db_standard_rated_2023-05.csv',\n",
       " '/mnt/c/datasets/eval-1700/lichess_db_standard_rated_2023-06.csv',\n",
       " '/mnt/c/datasets/eval-1700/lichess_db_standard_rated_2023-07.csv',\n",
       " '/mnt/c/datasets/eval-1700/lichess_db_standard_rated_2023-08.csv',\n",
       " '/mnt/c/datasets/eval-1700/lichess_db_standard_rated_2023-09.csv',\n",
       " '/mnt/c/datasets/eval-1700/lichess_db_standard_rated_2023-10.csv',\n",
       " '/mnt/c/datasets/eval-1700/lichess_db_standard_rated_2023-11.csv',\n",
       " '/mnt/c/datasets/eval-1700/lichess_db_standard_rated_2023-12.csv']"
      ]
     },
     "execution_count": 15,
     "metadata": {},
     "output_type": "execute_result"
    }
   ],
   "source": [
    "dataset = glob(\"/mnt/c/datasets/eval-1700/*.csv\")\n",
    "dataset"
   ]
  },
  {
   "cell_type": "code",
   "execution_count": 16,
   "metadata": {},
   "outputs": [],
   "source": [
    "king_sq = np.zeros((64), dtype=np.uint64)"
   ]
  },
  {
   "cell_type": "code",
   "execution_count": 17,
   "metadata": {},
   "outputs": [
    {
     "name": "stdout",
     "output_type": "stream",
     "text": [
      "/mnt/c/datasets/eval-1700/lichess_db_standard_rated_2023-01.csv\n"
     ]
    },
    {
     "name": "stderr",
     "output_type": "stream",
     "text": [
      "1000001it [01:13, 13638.84it/s]\n"
     ]
    },
    {
     "name": "stdout",
     "output_type": "stream",
     "text": [
      "/mnt/c/datasets/eval-1700/lichess_db_standard_rated_2023-02.csv\n"
     ]
    },
    {
     "name": "stderr",
     "output_type": "stream",
     "text": [
      "0it [00:00, ?it/s]\n"
     ]
    },
    {
     "name": "stdout",
     "output_type": "stream",
     "text": [
      "/mnt/c/datasets/eval-1700/lichess_db_standard_rated_2023-03.csv\n"
     ]
    },
    {
     "name": "stderr",
     "output_type": "stream",
     "text": [
      "0it [00:00, ?it/s]\n"
     ]
    },
    {
     "name": "stdout",
     "output_type": "stream",
     "text": [
      "/mnt/c/datasets/eval-1700/lichess_db_standard_rated_2023-04.csv\n"
     ]
    },
    {
     "name": "stderr",
     "output_type": "stream",
     "text": [
      "0it [00:00, ?it/s]\n"
     ]
    },
    {
     "name": "stdout",
     "output_type": "stream",
     "text": [
      "/mnt/c/datasets/eval-1700/lichess_db_standard_rated_2023-05.csv\n"
     ]
    },
    {
     "name": "stderr",
     "output_type": "stream",
     "text": [
      "0it [00:00, ?it/s]\n"
     ]
    },
    {
     "name": "stdout",
     "output_type": "stream",
     "text": [
      "/mnt/c/datasets/eval-1700/lichess_db_standard_rated_2023-06.csv\n"
     ]
    },
    {
     "name": "stderr",
     "output_type": "stream",
     "text": [
      "0it [00:00, ?it/s]\n"
     ]
    },
    {
     "name": "stdout",
     "output_type": "stream",
     "text": [
      "/mnt/c/datasets/eval-1700/lichess_db_standard_rated_2023-07.csv\n"
     ]
    },
    {
     "name": "stderr",
     "output_type": "stream",
     "text": [
      "0it [00:00, ?it/s]\n"
     ]
    },
    {
     "name": "stdout",
     "output_type": "stream",
     "text": [
      "/mnt/c/datasets/eval-1700/lichess_db_standard_rated_2023-08.csv\n"
     ]
    },
    {
     "name": "stderr",
     "output_type": "stream",
     "text": [
      "0it [00:00, ?it/s]\n"
     ]
    },
    {
     "name": "stdout",
     "output_type": "stream",
     "text": [
      "/mnt/c/datasets/eval-1700/lichess_db_standard_rated_2023-09.csv\n"
     ]
    },
    {
     "name": "stderr",
     "output_type": "stream",
     "text": [
      "0it [00:00, ?it/s]\n"
     ]
    },
    {
     "name": "stdout",
     "output_type": "stream",
     "text": [
      "/mnt/c/datasets/eval-1700/lichess_db_standard_rated_2023-10.csv\n"
     ]
    },
    {
     "name": "stderr",
     "output_type": "stream",
     "text": [
      "0it [00:00, ?it/s]\n"
     ]
    },
    {
     "name": "stdout",
     "output_type": "stream",
     "text": [
      "/mnt/c/datasets/eval-1700/lichess_db_standard_rated_2023-11.csv\n"
     ]
    },
    {
     "name": "stderr",
     "output_type": "stream",
     "text": [
      "0it [00:00, ?it/s]\n"
     ]
    },
    {
     "name": "stdout",
     "output_type": "stream",
     "text": [
      "/mnt/c/datasets/eval-1700/lichess_db_standard_rated_2023-12.csv\n"
     ]
    },
    {
     "name": "stderr",
     "output_type": "stream",
     "text": [
      "0it [00:00, ?it/s]\n"
     ]
    }
   ],
   "source": [
    "piece_locations = np.zeros((6, 64), dtype=np.uint64)\n",
    "\n",
    "k = 0\n",
    "\n",
    "for path in dataset:\n",
    "    print(path)\n",
    "    with open(path) as f:\n",
    "        for line in tqdm(f):\n",
    "            fen, score, bestmove = line.split(\",\")\n",
    "            board = chess.Board(fen)\n",
    "\n",
    "            for b in [board, board.mirror()]:\n",
    "                for pt in chess.PIECE_TYPES:\n",
    "                    for p in b.pieces(pt, chess.WHITE):\n",
    "                        piece_locations[pt - 1][p] += 1\n",
    "\n",
    "            if k > 1000000:\n",
    "                break\n",
    "            k += 1\n",
    "with open(\"piece_locations.csv\", \"w\") as f:\n",
    "    for pt in chess.PIECE_TYPES:\n",
    "        f.write(\",\".join([str(x) for x in piece_locations[pt - 1].tolist()]) + \"\\n\")"
   ]
  },
  {
   "cell_type": "code",
   "execution_count": 18,
   "metadata": {},
   "outputs": [
    {
     "data": {
      "image/png": "[encoded data removed]",
      "text/plain": [
       "<Figure size 640x480 with 2 Axes>"
      ]
     },
     "metadata": {},
     "output_type": "display_data"
    }
   ],
   "source": [
    "import matplotlib.pyplot as plt\n",
    "import matplotlib\n",
    "import seaborn as sns\n",
    "\n",
    "# with sns\n",
    "counts = np.flipud(piece_locations[chess.KING - 1].reshape((8,8)))\n",
    "counts = counts / counts.sum() * 100\n",
    "sns.heatmap(counts, cmap='hot',annot=True, norm=matplotlib.colors.PowerNorm(gamma=0.6))\n",
    "plt.show()"
   ]
  }
 ],
 "metadata": {
  "kernelspec": {
   "display_name": "Python 3",
   "language": "python",
   "name": "python3"
  },
  "language_info": {
   "codemirror_mode": {
    "name": "ipython",
    "version": 3
   },
   "file_extension": ".py",
   "mimetype": "text/x-python",
   "name": "python",
   "nbconvert_exporter": "python",
   "pygments_lexer": "ipython3",
   "version": "3.10.12"
  }
 },
 "nbformat": 4,
 "nbformat_minor": 2
}
