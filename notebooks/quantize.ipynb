{
 "cells": [
  {
   "cell_type": "code",
   "execution_count": 1,
   "metadata": {},
   "outputs": [
    {
     "name": "stderr",
     "output_type": "stream",
     "text": [
      "2024-02-06 23:05:07.098505: E external/local_xla/xla/stream_executor/cuda/cuda_dnn.cc:9261] Unable to register cuDNN factory: Attempting to register factory for plugin cuDNN when one has already been registered\n",
      "2024-02-06 23:05:07.098568: E external/local_xla/xla/stream_executor/cuda/cuda_fft.cc:607] Unable to register cuFFT factory: Attempting to register factory for plugin cuFFT when one has already been registered\n",
      "2024-02-06 23:05:07.100887: E external/local_xla/xla/stream_executor/cuda/cuda_blas.cc:1515] Unable to register cuBLAS factory: Attempting to register factory for plugin cuBLAS when one has already been registered\n",
      "2024-02-06 23:05:07.112731: I tensorflow/core/platform/cpu_feature_guard.cc:182] This TensorFlow binary is optimized to use available CPU instructions in performance-critical operations.\n",
      "To enable the following instructions: AVX2 FMA, in other operations, rebuild TensorFlow with the appropriate compiler flags.\n",
      "2024-02-06 23:05:08.529758: W tensorflow/compiler/tf2tensorrt/utils/py_utils.cc:38] TF-TRT Warning: Could not find TensorRT\n"
     ]
    }
   ],
   "source": [
    "import tensorflow as tf\n",
    "import tensorflow_model_optimization as tfmot\n",
    "import keras\n",
    "import onnxruntime\n",
    "from onnxruntime.quantization import (CalibrationDataReader, CalibrationMethod,\n",
    "                                      QuantFormat, QuantType, quantize_static)"
   ]
  },
  {
   "cell_type": "code",
   "execution_count": 54,
   "metadata": {},
   "outputs": [
    {
     "name": "stdout",
     "output_type": "stream",
     "text": [
      "(8067723, 12)\n",
      "(65536, 12)\n"
     ]
    }
   ],
   "source": [
    "import numpy as np\n",
    "\n",
    "class DR(CalibrationDataReader):\n",
    "    def __init__(self):\n",
    "        self.data = np.memmap('../data/dataset/2023_1600.bin', dtype='int64', mode='r').reshape((-1, 12))\n",
    "        print(self.data.shape)\n",
    "        idxs = np.random.choice(self.data.shape[0], 1024 * 64, replace=False)\n",
    "        self.data = self.data[idxs]\n",
    "        print(self.data.shape)\n",
    "        self.index = 0\n",
    "\n",
    "    def get_next(self):\n",
    "        batch_size = 1024\n",
    "        batch = self.data[self.index:self.index+batch_size]\n",
    "\n",
    "        if len(batch) < batch_size:\n",
    "            return None\n",
    "\n",
    "        self.index += batch_size\n",
    "\n",
    "        return { \"input_1\": batch }\n",
    "\n",
    "dr = DR()\n",
    "\n",
    "quantize_static(\n",
    "    model_input=\"../models/preprocessed.onnx\",\n",
    "    model_output=\"../models/quant.onnx\",\n",
    "    calibration_data_reader=dr,\n",
    "    quant_format=QuantFormat.QDQ,\n",
    "    activation_type=QuantType.QInt8,\n",
    "    weight_type=QuantType.QInt8,\n",
    ")"
   ]
  },
  {
   "cell_type": "code",
   "execution_count": 55,
   "metadata": {},
   "outputs": [
    {
     "name": "stdout",
     "output_type": "stream",
     "text": [
      "[array([[ 0.71758837],\n",
      "       [-0.33927637],\n",
      "       [ 0.09160953],\n",
      "       ...,\n",
      "       [ 1.6370492 ],\n",
      "       [-0.44199055],\n",
      "       [ 0.17647974]], dtype=float32)]\n",
      "[array([[ 0.74480486],\n",
      "       [-0.37240243],\n",
      "       [ 0.12413415],\n",
      "       ...,\n",
      "       [ 1.7378781 ],\n",
      "       [-0.49653658],\n",
      "       [ 0.        ]], dtype=float32)]\n",
      "8.060038\n"
     ]
    }
   ],
   "source": [
    "prep_model = onnxruntime.InferenceSession(\"../models/preprocessed.onnx\")\n",
    "quantized_model = onnxruntime.InferenceSession(\"../models/quant.onnx\")\n",
    "\n",
    "a = prep_model.run(output_names=[\"dense_3\"], input_feed={\"input_1\":dr.data})\n",
    "b = quantized_model.run(output_names=[\"dense_3\"], input_feed={\"input_1\":dr.data})\n",
    "\n",
    "print(a[:10])\n",
    "print(b[:10])\n",
    "print(np.abs(a[0] - b[0]).max())"
   ]
  }
 ],
 "metadata": {
  "kernelspec": {
   "display_name": "Python 3",
   "language": "python",
   "name": "python3"
  },
  "language_info": {
   "codemirror_mode": {
    "name": "ipython",
    "version": 3
   },
   "file_extension": ".py",
   "mimetype": "text/x-python",
   "name": "python",
   "nbconvert_exporter": "python",
   "pygments_lexer": "ipython3",
   "version": "3.10.12"
  }
 },
 "nbformat": 4,
 "nbformat_minor": 2
}
