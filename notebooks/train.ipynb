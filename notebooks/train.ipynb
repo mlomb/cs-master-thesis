{
 "cells": [
  {
   "cell_type": "code",
   "execution_count": 40,
   "metadata": {},
   "outputs": [],
   "source": [
    "import numpy as np\n",
    "import tensorflow as tf\n",
    "\n",
    "# tf.debugging.set_log_device_placement(True) "
   ]
  },
  {
   "cell_type": "markdown",
   "metadata": {},
   "source": [
    "# Load dataset"
   ]
  },
  {
   "cell_type": "code",
   "execution_count": 44,
   "metadata": {},
   "outputs": [],
   "source": [
    "def decode(tensor):\n",
    "    \"\"\"\n",
    "    Converts the 12 uint64s into a 768 float32 tensor.\n",
    "    \"\"\"\n",
    "    masks = tf.convert_to_tensor(2 ** np.arange(64, dtype=np.int64))\n",
    "    masked = tf.bitwise.bitwise_and(tf.expand_dims(tensor, -1), masks)\n",
    "    expanded = tf.cast(tf.not_equal(masked, 0), dtype=tf.float32)\n",
    "    return tf.reshape(expanded, (-1, 3, 768))\n",
    "\n",
    "# read file\n",
    "dataset = tf.data.Dataset.list_files('../data/dataset/*.bin')\n",
    "dataset = tf.data.FixedLengthRecordDataset(dataset, record_bytes=3 * 12 * 8)\n",
    "dataset = dataset.map(lambda s: tf.reshape(tf.io.decode_raw(s, tf.int64), (3, 12)))\n",
    "# dataset = dataset.take(2)\n",
    "dataset = dataset.batch(32)\n",
    "dataset = dataset.map(decode)"
   ]
  },
  {
   "cell_type": "code",
   "execution_count": 45,
   "metadata": {},
   "outputs": [
    {
     "data": {
      "text/plain": [
       "TensorShape([32, 3, 768])"
      ]
     },
     "execution_count": 45,
     "metadata": {},
     "output_type": "execute_result"
    }
   ],
   "source": [
    "batch = next(iter(dataset.take(1)))\n",
    "batch.shape"
   ]
  },
  {
   "cell_type": "code",
   "execution_count": 46,
   "metadata": {},
   "outputs": [],
   "source": [
    "from matplotlib import pyplot as plt\n",
    "\n",
    "fig, axs = plt.subplots(3, 12, figsize=(18, 4))\n",
    "for kind in range(3):\n",
    "    for layer in range(12):\n",
    "        axs[kind][layer].imshow(batch.numpy()[0][kind].reshape((12,8,8))[layer])\n",
    "plt.show()"
   ]
  },
  {
   "cell_type": "markdown",
   "metadata": {},
   "source": [
    "# Train"
   ]
  }
 ],
 "metadata": {
  "kernelspec": {
   "display_name": "Python 3",
   "language": "python",
   "name": "python3"
  },
  "language_info": {
   "codemirror_mode": {
    "name": "ipython",
    "version": 3
   },
   "file_extension": ".py",
   "mimetype": "text/x-python",
   "name": "python",
   "nbconvert_exporter": "python",
   "pygments_lexer": "ipython3",
   "version": "3.11.0"
  }
 },
 "nbformat": 4,
 "nbformat_minor": 2
}
