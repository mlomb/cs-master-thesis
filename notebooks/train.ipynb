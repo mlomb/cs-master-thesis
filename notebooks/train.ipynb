{
 "cells": [
  {
   "cell_type": "code",
   "execution_count": 1,
   "metadata": {},
   "outputs": [],
   "source": [
    "import math\n",
    "from datetime import datetime\n",
    "from glob import glob\n",
    "from tqdm import tqdm\n",
    "import torch\n",
    "import wandb\n",
    "import tempfile\n",
    "\n",
    "from lib.service import SamplesService\n",
    "from lib.model import NnueModel\n",
    "from lib.model import decode_int64_bitset\n",
    "from lib.serialize import NnueWriter\n",
    "from lib.puzzles import PuzzleAccuracy\n",
    "from lib.losses import EvalLoss, PQRLoss"
   ]
  },
  {
   "cell_type": "code",
   "execution_count": 2,
   "metadata": {},
   "outputs": [
    {
     "name": "stderr",
     "output_type": "stream",
     "text": [
      "Failed to detect the name of this notebook, you can set it manually with the WANDB_NOTEBOOK_NAME environment variable to enable code saving.\n",
      "\u001b[34m\u001b[1mwandb\u001b[0m: Currently logged in as: \u001b[33mmlomb\u001b[0m. Use \u001b[1m`wandb login --relogin`\u001b[0m to force relogin\n"
     ]
    },
    {
     "data": {
      "text/html": [
       "Tracking run with wandb version 0.16.5"
      ],
      "text/plain": [
       "<IPython.core.display.HTML object>"
      ]
     },
     "metadata": {},
     "output_type": "display_data"
    },
    {
     "data": {
      "text/html": [
       "Run data is saved locally in <code>/mnt/c/Users/mlomb/Desktop/Tesis/cs-master-thesis/notebooks/wandb/run-20240331_140750-kkie3rmx</code>"
      ],
      "text/plain": [
       "<IPython.core.display.HTML object>"
      ]
     },
     "metadata": {},
     "output_type": "display_data"
    },
    {
     "data": {
      "text/html": [
       "Syncing run <strong><a href='https://wandb.ai/mlomb/cs-master-thesis/runs/kkie3rmx/workspace' target=\"_blank\">20240331_140748_eval_half-piece_4096</a></strong> to <a href='https://wandb.ai/mlomb/cs-master-thesis' target=\"_blank\">Weights & Biases</a> (<a href='https://wandb.me/run' target=\"_blank\">docs</a>)<br/>"
      ],
      "text/plain": [
       "<IPython.core.display.HTML object>"
      ]
     },
     "metadata": {},
     "output_type": "display_data"
    },
    {
     "data": {
      "text/html": [
       " View project at <a href='https://wandb.ai/mlomb/cs-master-thesis' target=\"_blank\">https://wandb.ai/mlomb/cs-master-thesis</a>"
      ],
      "text/plain": [
       "<IPython.core.display.HTML object>"
      ]
     },
     "metadata": {},
     "output_type": "display_data"
    },
    {
     "data": {
      "text/html": [
       " View run at <a href='https://wandb.ai/mlomb/cs-master-thesis/runs/kkie3rmx/workspace' target=\"_blank\">https://wandb.ai/mlomb/cs-master-thesis/runs/kkie3rmx/workspace</a>"
      ],
      "text/plain": [
       "<IPython.core.display.HTML object>"
      ]
     },
     "metadata": {},
     "output_type": "display_data"
    },
    {
     "name": "stderr",
     "output_type": "stream",
     "text": [
      "Epoch 0: 100%|██████████| 1000/1000 [00:13<00:00, 73.60it/s]\n",
      "100%|██████████| 4897/4897 [01:27<00:00, 55.68it/s]\n",
      "Epoch 1: 100%|██████████| 1000/1000 [00:12<00:00, 81.12it/s]\n",
      "Epoch 2: 100%|██████████| 1000/1000 [00:11<00:00, 85.12it/s]\n",
      "Epoch 3: 100%|██████████| 1000/1000 [00:11<00:00, 88.00it/s]\n",
      "Epoch 4: 100%|██████████| 1000/1000 [00:11<00:00, 89.86it/s]\n",
      "Epoch 5: 100%|██████████| 1000/1000 [00:11<00:00, 88.32it/s]\n",
      "Epoch 6: 100%|██████████| 1000/1000 [00:11<00:00, 88.85it/s]\n",
      "Epoch 7: 100%|██████████| 1000/1000 [00:11<00:00, 84.53it/s]\n",
      "Epoch 8: 100%|██████████| 1000/1000 [00:12<00:00, 82.38it/s]\n",
      "Epoch 9: 100%|██████████| 1000/1000 [00:11<00:00, 87.76it/s]\n",
      "Epoch 10: 100%|██████████| 1000/1000 [00:11<00:00, 87.02it/s]\n",
      "Epoch 11: 100%|██████████| 1000/1000 [00:11<00:00, 89.08it/s]\n",
      "Epoch 12: 100%|██████████| 1000/1000 [00:11<00:00, 88.86it/s]\n",
      "Epoch 13: 100%|██████████| 1000/1000 [00:11<00:00, 90.86it/s]\n",
      "Epoch 14: 100%|██████████| 1000/1000 [00:11<00:00, 89.06it/s]\n",
      "Epoch 15: 100%|██████████| 1000/1000 [00:11<00:00, 87.99it/s]\n",
      "Epoch 16: 100%|██████████| 1000/1000 [00:11<00:00, 90.03it/s]\n",
      "Epoch 17: 100%|██████████| 1000/1000 [00:11<00:00, 88.81it/s]\n",
      "Epoch 18: 100%|██████████| 1000/1000 [00:11<00:00, 87.62it/s]\n",
      "Epoch 19: 100%|██████████| 1000/1000 [00:10<00:00, 91.33it/s]\n",
      "Epoch 20: 100%|██████████| 1000/1000 [00:11<00:00, 89.74it/s]\n",
      "Epoch 21: 100%|██████████| 1000/1000 [00:10<00:00, 91.93it/s]\n",
      "Epoch 22: 100%|██████████| 1000/1000 [00:10<00:00, 91.48it/s]\n",
      "Epoch 23: 100%|██████████| 1000/1000 [00:11<00:00, 89.85it/s]\n",
      "Epoch 24: 100%|██████████| 1000/1000 [00:11<00:00, 90.73it/s]\n",
      "Epoch 25: 100%|██████████| 1000/1000 [00:10<00:00, 92.27it/s]\n",
      "Epoch 26: 100%|██████████| 1000/1000 [00:11<00:00, 89.44it/s]\n",
      "Epoch 27: 100%|██████████| 1000/1000 [00:10<00:00, 91.13it/s]\n",
      "Epoch 28: 100%|██████████| 1000/1000 [00:11<00:00, 87.81it/s]\n",
      "Epoch 29: 100%|██████████| 1000/1000 [00:11<00:00, 87.99it/s]\n",
      "Epoch 30: 100%|██████████| 1000/1000 [00:11<00:00, 86.31it/s]\n",
      "100%|██████████| 4897/4897 [01:30<00:00, 54.15it/s]\n",
      "Epoch 31: 100%|██████████| 1000/1000 [00:13<00:00, 74.13it/s]\n",
      "Epoch 32: 100%|██████████| 1000/1000 [00:12<00:00, 81.90it/s]\n",
      "Epoch 33: 100%|██████████| 1000/1000 [00:12<00:00, 80.42it/s]\n",
      "Epoch 34: 100%|██████████| 1000/1000 [00:11<00:00, 87.66it/s]\n",
      "Epoch 35: 100%|██████████| 1000/1000 [00:12<00:00, 78.00it/s]\n",
      "Epoch 36: 100%|██████████| 1000/1000 [00:12<00:00, 81.28it/s]\n",
      "Epoch 37: 100%|██████████| 1000/1000 [00:16<00:00, 61.35it/s]\n",
      "Epoch 38: 100%|██████████| 1000/1000 [00:11<00:00, 87.43it/s]\n",
      "Epoch 39: 100%|██████████| 1000/1000 [00:11<00:00, 89.52it/s]\n",
      "Epoch 40: 100%|██████████| 1000/1000 [00:11<00:00, 84.23it/s]\n",
      "Epoch 41: 100%|██████████| 1000/1000 [00:11<00:00, 86.33it/s]\n",
      "Epoch 42: 100%|██████████| 1000/1000 [00:11<00:00, 84.43it/s]\n",
      "Epoch 43: 100%|██████████| 1000/1000 [00:11<00:00, 84.26it/s]\n",
      "Epoch 44: 100%|██████████| 1000/1000 [00:11<00:00, 86.17it/s]\n",
      "Epoch 45: 100%|██████████| 1000/1000 [00:11<00:00, 84.42it/s]\n",
      "Epoch 46: 100%|██████████| 1000/1000 [00:11<00:00, 89.96it/s]\n",
      "Epoch 47: 100%|██████████| 1000/1000 [00:12<00:00, 81.75it/s]\n",
      "Epoch 48: 100%|██████████| 1000/1000 [00:11<00:00, 83.50it/s]\n",
      "Epoch 49: 100%|██████████| 1000/1000 [00:12<00:00, 82.50it/s]\n",
      "Epoch 50: 100%|██████████| 1000/1000 [00:11<00:00, 87.80it/s]\n",
      "Epoch 51: 100%|██████████| 1000/1000 [00:11<00:00, 88.02it/s]\n",
      "Epoch 52: 100%|██████████| 1000/1000 [00:11<00:00, 85.52it/s]\n",
      "Epoch 53: 100%|██████████| 1000/1000 [00:11<00:00, 83.70it/s]\n",
      "Epoch 54: 100%|██████████| 1000/1000 [00:14<00:00, 71.18it/s]\n",
      "Epoch 55: 100%|██████████| 1000/1000 [00:12<00:00, 83.26it/s]\n",
      "Epoch 56: 100%|██████████| 1000/1000 [00:12<00:00, 79.82it/s]\n",
      "Epoch 57: 100%|██████████| 1000/1000 [00:15<00:00, 65.05it/s]\n",
      "Epoch 58: 100%|██████████| 1000/1000 [00:11<00:00, 86.73it/s]\n",
      "Epoch 59: 100%|██████████| 1000/1000 [00:13<00:00, 75.24it/s]\n",
      "Epoch 60: 100%|██████████| 1000/1000 [00:14<00:00, 69.13it/s]\n",
      " 42%|████▏     | 2069/4897 [00:40<00:54, 51.69it/s]\n"
     ]
    },
    {
     "ename": "KeyboardInterrupt",
     "evalue": "",
     "output_type": "error",
     "traceback": [
      "\u001b[0;31m---------------------------------------------------------------------------\u001b[0m",
      "\u001b[0;31mKeyboardInterrupt\u001b[0m                         Traceback (most recent call last)",
      "Cell \u001b[0;32mIn[2], line 113\u001b[0m\n\u001b[1;32m    109\u001b[0m wandb\u001b[38;5;241m.\u001b[39mlog_artifact(artifact, aliases\u001b[38;5;241m=\u001b[39m[\u001b[38;5;124m\"\u001b[39m\u001b[38;5;124mlatest\u001b[39m\u001b[38;5;124m\"\u001b[39m, \u001b[38;5;124mf\u001b[39m\u001b[38;5;124m\"\u001b[39m\u001b[38;5;124mepoch_\u001b[39m\u001b[38;5;132;01m{\u001b[39;00mepoch\u001b[38;5;132;01m}\u001b[39;00m\u001b[38;5;124m\"\u001b[39m])\n\u001b[1;32m    111\u001b[0m \u001b[38;5;28;01mif\u001b[39;00m epoch \u001b[38;5;241m%\u001b[39m \u001b[38;5;241m30\u001b[39m \u001b[38;5;241m==\u001b[39m \u001b[38;5;241m0\u001b[39m:\n\u001b[1;32m    112\u001b[0m     \u001b[38;5;66;03m# run puzzles\u001b[39;00m\n\u001b[0;32m--> 113\u001b[0m     puzzles_results, puzzles_accuracy \u001b[38;5;241m=\u001b[39m \u001b[43mpuzzles\u001b[49m\u001b[38;5;241;43m.\u001b[39;49m\u001b[43mmeasure\u001b[49m\u001b[43m(\u001b[49m\u001b[43m[\u001b[49m\u001b[38;5;124;43m\"\u001b[39;49m\u001b[38;5;124;43m/mnt/c/Users/mlomb/Desktop/Tesis/cs-master-thesis/engine/target/release/engine\u001b[39;49m\u001b[38;5;124;43m\"\u001b[39;49m\u001b[43m,\u001b[49m\u001b[43m \u001b[49m\u001b[38;5;124;43mf\u001b[39;49m\u001b[38;5;124;43m\"\u001b[39;49m\u001b[38;5;124;43m--nn=\u001b[39;49m\u001b[38;5;132;43;01m{\u001b[39;49;00m\u001b[43mtmp\u001b[49m\u001b[38;5;241;43m.\u001b[39;49m\u001b[43mname\u001b[49m\u001b[38;5;132;43;01m}\u001b[39;49;00m\u001b[38;5;124;43m\"\u001b[39;49m\u001b[43m]\u001b[49m\u001b[43m)\u001b[49m\n\u001b[1;32m    115\u001b[0m     wandb\u001b[38;5;241m.\u001b[39mlog(step\u001b[38;5;241m=\u001b[39mepoch, data\u001b[38;5;241m=\u001b[39m{\u001b[38;5;124m\"\u001b[39m\u001b[38;5;124mPuzzles/accuracy\u001b[39m\u001b[38;5;124m\"\u001b[39m: puzzles_accuracy})\n\u001b[1;32m    116\u001b[0m     \u001b[38;5;28;01mfor\u001b[39;00m category, accuracy \u001b[38;5;129;01min\u001b[39;00m puzzles_results:\n",
      "File \u001b[0;32m/mnt/c/Users/mlomb/Desktop/Tesis/cs-master-thesis/notebooks/lib/puzzles.py:79\u001b[0m, in \u001b[0;36mPuzzleAccuracy.measure\u001b[0;34m(self, engine_cmd)\u001b[0m\n\u001b[1;32m     76\u001b[0m themes_total \u001b[38;5;241m=\u001b[39m {}\n\u001b[1;32m     78\u001b[0m \u001b[38;5;28;01mwith\u001b[39;00m ThreadPoolExecutor(max_workers\u001b[38;5;241m=\u001b[39m\u001b[38;5;241m5\u001b[39m, initializer\u001b[38;5;241m=\u001b[39minit_engine, initargs\u001b[38;5;241m=\u001b[39m(engine_cmd,)) \u001b[38;5;28;01mas\u001b[39;00m executor:\n\u001b[0;32m---> 79\u001b[0m     results \u001b[38;5;241m=\u001b[39m \u001b[38;5;28;43mlist\u001b[39;49m\u001b[43m(\u001b[49m\u001b[43mtqdm\u001b[49m\u001b[43m(\u001b[49m\u001b[43mexecutor\u001b[49m\u001b[38;5;241;43m.\u001b[39;49m\u001b[43mmap\u001b[49m\u001b[43m(\u001b[49m\u001b[43mf\u001b[49m\u001b[43m,\u001b[49m\u001b[43m \u001b[49m\u001b[38;5;28;43mself\u001b[39;49m\u001b[38;5;241;43m.\u001b[39;49m\u001b[43mpuzzles\u001b[49m\u001b[43m)\u001b[49m\u001b[43m,\u001b[49m\u001b[43m \u001b[49m\u001b[43mtotal\u001b[49m\u001b[38;5;241;43m=\u001b[39;49m\u001b[38;5;28;43mlen\u001b[39;49m\u001b[43m(\u001b[49m\u001b[38;5;28;43mself\u001b[39;49m\u001b[38;5;241;43m.\u001b[39;49m\u001b[43mpuzzles\u001b[49m\u001b[43m)\u001b[49m\u001b[43m)\u001b[49m\u001b[43m)\u001b[49m\n\u001b[1;32m     81\u001b[0m     \u001b[38;5;28;01mfor\u001b[39;00m (_, _, themes), (pz_correct_moves, pz_total_moves) \u001b[38;5;129;01min\u001b[39;00m \u001b[38;5;28mzip\u001b[39m(\u001b[38;5;28mself\u001b[39m\u001b[38;5;241m.\u001b[39mpuzzles, results):\n\u001b[1;32m     82\u001b[0m         solved \u001b[38;5;241m=\u001b[39m (pz_correct_moves \u001b[38;5;241m==\u001b[39m pz_total_moves)\n",
      "File \u001b[0;32m~/.local/lib/python3.10/site-packages/tqdm/std.py:1178\u001b[0m, in \u001b[0;36mtqdm.__iter__\u001b[0;34m(self)\u001b[0m\n\u001b[1;32m   1175\u001b[0m time \u001b[38;5;241m=\u001b[39m \u001b[38;5;28mself\u001b[39m\u001b[38;5;241m.\u001b[39m_time\n\u001b[1;32m   1177\u001b[0m \u001b[38;5;28;01mtry\u001b[39;00m:\n\u001b[0;32m-> 1178\u001b[0m     \u001b[38;5;28;01mfor\u001b[39;00m obj \u001b[38;5;129;01min\u001b[39;00m iterable:\n\u001b[1;32m   1179\u001b[0m         \u001b[38;5;28;01myield\u001b[39;00m obj\n\u001b[1;32m   1180\u001b[0m         \u001b[38;5;66;03m# Update and possibly print the progressbar.\u001b[39;00m\n\u001b[1;32m   1181\u001b[0m         \u001b[38;5;66;03m# Note: does not call self.update(1) for speed optimisation.\u001b[39;00m\n",
      "File \u001b[0;32m/usr/lib/python3.10/concurrent/futures/_base.py:621\u001b[0m, in \u001b[0;36mExecutor.map.<locals>.result_iterator\u001b[0;34m()\u001b[0m\n\u001b[1;32m    618\u001b[0m \u001b[38;5;28;01mwhile\u001b[39;00m fs:\n\u001b[1;32m    619\u001b[0m     \u001b[38;5;66;03m# Careful not to keep a reference to the popped future\u001b[39;00m\n\u001b[1;32m    620\u001b[0m     \u001b[38;5;28;01mif\u001b[39;00m timeout \u001b[38;5;129;01mis\u001b[39;00m \u001b[38;5;28;01mNone\u001b[39;00m:\n\u001b[0;32m--> 621\u001b[0m         \u001b[38;5;28;01myield\u001b[39;00m \u001b[43m_result_or_cancel\u001b[49m\u001b[43m(\u001b[49m\u001b[43mfs\u001b[49m\u001b[38;5;241;43m.\u001b[39;49m\u001b[43mpop\u001b[49m\u001b[43m(\u001b[49m\u001b[43m)\u001b[49m\u001b[43m)\u001b[49m\n\u001b[1;32m    622\u001b[0m     \u001b[38;5;28;01melse\u001b[39;00m:\n\u001b[1;32m    623\u001b[0m         \u001b[38;5;28;01myield\u001b[39;00m _result_or_cancel(fs\u001b[38;5;241m.\u001b[39mpop(), end_time \u001b[38;5;241m-\u001b[39m time\u001b[38;5;241m.\u001b[39mmonotonic())\n",
      "File \u001b[0;32m/usr/lib/python3.10/concurrent/futures/_base.py:319\u001b[0m, in \u001b[0;36m_result_or_cancel\u001b[0;34m(***failed resolving arguments***)\u001b[0m\n\u001b[1;32m    317\u001b[0m \u001b[38;5;28;01mtry\u001b[39;00m:\n\u001b[1;32m    318\u001b[0m     \u001b[38;5;28;01mtry\u001b[39;00m:\n\u001b[0;32m--> 319\u001b[0m         \u001b[38;5;28;01mreturn\u001b[39;00m \u001b[43mfut\u001b[49m\u001b[38;5;241;43m.\u001b[39;49m\u001b[43mresult\u001b[49m\u001b[43m(\u001b[49m\u001b[43mtimeout\u001b[49m\u001b[43m)\u001b[49m\n\u001b[1;32m    320\u001b[0m     \u001b[38;5;28;01mfinally\u001b[39;00m:\n\u001b[1;32m    321\u001b[0m         fut\u001b[38;5;241m.\u001b[39mcancel()\n",
      "File \u001b[0;32m/usr/lib/python3.10/concurrent/futures/_base.py:453\u001b[0m, in \u001b[0;36mFuture.result\u001b[0;34m(self, timeout)\u001b[0m\n\u001b[1;32m    450\u001b[0m \u001b[38;5;28;01melif\u001b[39;00m \u001b[38;5;28mself\u001b[39m\u001b[38;5;241m.\u001b[39m_state \u001b[38;5;241m==\u001b[39m FINISHED:\n\u001b[1;32m    451\u001b[0m     \u001b[38;5;28;01mreturn\u001b[39;00m \u001b[38;5;28mself\u001b[39m\u001b[38;5;241m.\u001b[39m__get_result()\n\u001b[0;32m--> 453\u001b[0m \u001b[38;5;28;43mself\u001b[39;49m\u001b[38;5;241;43m.\u001b[39;49m\u001b[43m_condition\u001b[49m\u001b[38;5;241;43m.\u001b[39;49m\u001b[43mwait\u001b[49m\u001b[43m(\u001b[49m\u001b[43mtimeout\u001b[49m\u001b[43m)\u001b[49m\n\u001b[1;32m    455\u001b[0m \u001b[38;5;28;01mif\u001b[39;00m \u001b[38;5;28mself\u001b[39m\u001b[38;5;241m.\u001b[39m_state \u001b[38;5;129;01min\u001b[39;00m [CANCELLED, CANCELLED_AND_NOTIFIED]:\n\u001b[1;32m    456\u001b[0m     \u001b[38;5;28;01mraise\u001b[39;00m CancelledError()\n",
      "File \u001b[0;32m/usr/lib/python3.10/threading.py:320\u001b[0m, in \u001b[0;36mCondition.wait\u001b[0;34m(self, timeout)\u001b[0m\n\u001b[1;32m    318\u001b[0m \u001b[38;5;28;01mtry\u001b[39;00m:    \u001b[38;5;66;03m# restore state no matter what (e.g., KeyboardInterrupt)\u001b[39;00m\n\u001b[1;32m    319\u001b[0m     \u001b[38;5;28;01mif\u001b[39;00m timeout \u001b[38;5;129;01mis\u001b[39;00m \u001b[38;5;28;01mNone\u001b[39;00m:\n\u001b[0;32m--> 320\u001b[0m         \u001b[43mwaiter\u001b[49m\u001b[38;5;241;43m.\u001b[39;49m\u001b[43macquire\u001b[49m\u001b[43m(\u001b[49m\u001b[43m)\u001b[49m\n\u001b[1;32m    321\u001b[0m         gotit \u001b[38;5;241m=\u001b[39m \u001b[38;5;28;01mTrue\u001b[39;00m\n\u001b[1;32m    322\u001b[0m     \u001b[38;5;28;01melse\u001b[39;00m:\n",
      "\u001b[0;31mKeyboardInterrupt\u001b[0m: "
     ]
    }
   ],
   "source": [
    "EPOCHS = 100000\n",
    "BATCHES_PER_EPOCH = 1000\n",
    "BATCH_SIZE = 4096\n",
    "\n",
    "FEATURE_SET = \"half-piece\"\n",
    "NUM_FEATURES = 768 # 192 768 40960\n",
    "NUM_FT = 256\n",
    "NUM_L1 = 64\n",
    "NUM_L2 = 32\n",
    "METHOD = \"eval\"\n",
    "\n",
    "if METHOD == \"pqr\":\n",
    "    X_SHAPE = (BATCH_SIZE, 3, 2, NUM_FEATURES // 64)\n",
    "    Y_SHAPE = (BATCH_SIZE, 0)\n",
    "    INPUTS = glob(\"/mnt/d/datasets/pqr-1700/*.csv\")\n",
    "    loss_fn = PQRLoss()\n",
    "elif METHOD == \"eval\":\n",
    "    X_SHAPE = (BATCH_SIZE, 2, NUM_FEATURES // 64)\n",
    "    Y_SHAPE = (BATCH_SIZE, 1)\n",
    "    INPUTS = glob(\"/mnt/d/datasets/eval/*.csv\")\n",
    "    loss_fn = EvalLoss()\n",
    "\n",
    "timestamp = datetime.now().strftime('%Y%m%d_%H%M%S')\n",
    "run_name = f'{timestamp}_{METHOD}_{FEATURE_SET}_{BATCH_SIZE}'\n",
    "run = wandb.init(\n",
    "    project=\"cs-master-thesis\",\n",
    "    name=run_name,\n",
    "    job_type=\"train\",\n",
    "    config={\n",
    "        \"feature_set\": FEATURE_SET,\n",
    "        \"method\": METHOD,\n",
    "        \"batch_size\": BATCH_SIZE,\n",
    "        \"batches_per_epoch\": BATCHES_PER_EPOCH,\n",
    "    }\n",
    ")\n",
    "\n",
    "puzzles = PuzzleAccuracy('./data/puzzles.csv')\n",
    "samples_service = SamplesService(x_shape=X_SHAPE, y_shape=Y_SHAPE, inputs=INPUTS, feature_set=FEATURE_SET, method=METHOD)\n",
    "chessmodel = NnueModel(num_features=NUM_FEATURES, num_ft=NUM_FT, num_l1=NUM_L1, num_l2=NUM_L2)\n",
    "chessmodel.cuda()\n",
    "\n",
    "#for i in tqdm(range(1000000)):\n",
    "#    a = samples_service.next_batch()\n",
    "\n",
    "optimizer = torch.optim.Adam(chessmodel.parameters(), lr=0.0015)\n",
    "scheduler = torch.optim.lr_scheduler.ReduceLROnPlateau(optimizer, 'min', threshold=0.0001, factor=0.7, patience=50)\n",
    "\n",
    "# @torch.compile # 30% speedup\n",
    "def train_step(X, y):\n",
    "    # Clear the gradients\n",
    "    optimizer.zero_grad()\n",
    "\n",
    "    # Forward pass\n",
    "    outputs = chessmodel(X)\n",
    "\n",
    "    # Compute the loss\n",
    "    loss = loss_fn(outputs, y)\n",
    "    loss.backward()\n",
    "\n",
    "    # Update the parameters\n",
    "    optimizer.step()\n",
    "\n",
    "    chessmodel.clip_weights()\n",
    "\n",
    "    return loss\n",
    "\n",
    "# Make sure gradient tracking is on\n",
    "chessmodel.train()\n",
    "\n",
    "for epoch in range(EPOCHS):\n",
    "    avg_loss = 0.0\n",
    "\n",
    "    for _ in tqdm(range(BATCHES_PER_EPOCH), desc=f'Epoch {epoch}'):\n",
    "        X, y = samples_service.next_batch()\n",
    "    \n",
    "        # expand bitset\n",
    "        X = decode_int64_bitset(X)\n",
    "        X = X.reshape(-1, 2, NUM_FEATURES)\n",
    "\n",
    "        loss = train_step(X, y)\n",
    "        avg_loss += loss.item()\n",
    "\n",
    "        if math.isnan(avg_loss):\n",
    "            raise Exception(\"Loss is NaN, exiting\")\n",
    "\n",
    "    avg_loss /= BATCHES_PER_EPOCH\n",
    "\n",
    "    # Step the scheduler\n",
    "    scheduler.step(avg_loss)\n",
    "\n",
    "    # log metrics to W&B\n",
    "    wandb.log(step=epoch, data={\n",
    "        \"Train/loss\": avg_loss,\n",
    "        \"Train/lr\": scheduler._last_lr[0], # get_last_lr()\n",
    "\n",
    "        \"Weight/mean-f1\": torch.mean(chessmodel.ft.weight),\n",
    "        \"Weight/mean-l1\": torch.mean(chessmodel.linear1.weight),\n",
    "        \"Weight/mean-l2\": torch.mean(chessmodel.linear2.weight),\n",
    "        \"Weight/mean-out\": torch.mean(chessmodel.output.weight),\n",
    "    })\n",
    "\n",
    "    # save model\n",
    "    with tempfile.NamedTemporaryFile() as tmp:\n",
    "        tmp.write(NnueWriter(chessmodel, FEATURE_SET).buf)\n",
    "    \n",
    "        # store artifact in W&B\n",
    "        artifact = wandb.Artifact(run_name, type=\"model\")\n",
    "        artifact.add_file(tmp.name, name=f\"{epoch}.nn\")\n",
    "        wandb.log_artifact(artifact, aliases=[\"latest\", f\"epoch_{epoch}\"])\n",
    "\n",
    "        if epoch % 30 == 0:\n",
    "            # run puzzles\n",
    "            puzzles_results, puzzles_accuracy = puzzles.measure([\"/mnt/c/Users/mlomb/Desktop/Tesis/cs-master-thesis/engine/target/release/engine\", f\"--nn={tmp.name}\"])\n",
    "\n",
    "            wandb.log(step=epoch, data={\"Puzzles/accuracy\": puzzles_accuracy})\n",
    "            for category, accuracy in puzzles_results:\n",
    "                wandb.log(step=epoch, data={\n",
    "                    f\"Puzzles/{category}\": accuracy\n",
    "                })\n"
   ]
  },
  {
   "cell_type": "code",
   "execution_count": null,
   "metadata": {},
   "outputs": [],
   "source": [
    "wandb.finish()"
   ]
  }
 ],
 "metadata": {
  "kernelspec": {
   "display_name": "Python 3",
   "language": "python",
   "name": "python3"
  },
  "language_info": {
   "codemirror_mode": {
    "name": "ipython",
    "version": 3
   },
   "file_extension": ".py",
   "mimetype": "text/x-python",
   "name": "python",
   "nbconvert_exporter": "python",
   "pygments_lexer": "ipython3",
   "version": "3.10.12"
  }
 },
 "nbformat": 4,
 "nbformat_minor": 2
}
